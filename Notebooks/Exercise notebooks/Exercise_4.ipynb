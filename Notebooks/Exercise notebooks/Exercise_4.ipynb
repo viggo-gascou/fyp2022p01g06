{
 "cells": [
  {
   "cell_type": "code",
   "execution_count": null,
   "metadata": {},
   "outputs": [],
   "source": [
    "import json\n",
    "import numpy as np\n",
    "import pandas as pd\n",
    "import statsmodels.api as sm\n",
    "from scipy.stats import pearsonr, spearmanr"
   ]
  },
  {
   "cell_type": "code",
   "execution_count": null,
   "metadata": {},
   "outputs": [],
   "source": [
    "corona_df=pd.read_csv('../data/raw/corona/de_corona.csv',sep='\\t')\n",
    "\n",
    "with open('../data/raw/metadata/de_metadata.json','r', encoding=\"utf8\") as f:\n",
    "    country_metadata=json.load(f)\n",
    "\n",
    "region_map = {country_metadata[\"country_metadata\"][i][\"covid_region_code\"]: \n",
    "    country_metadata[\"country_metadata\"][i][\"iso3166-2_code\"] for i in range(len(country_metadata[\"country_metadata\"]))}\n",
    "corona_df[\"iso3166-2\"] = corona_df[\"region_code\"].map(region_map)\n",
    "\n",
    "population_map = {country_metadata[\"country_metadata\"][i][\"iso3166-2_code\"]: \n",
    "    country_metadata[\"country_metadata\"][i][\"population\"] for i in range(len(country_metadata[\"country_metadata\"]))}\n",
    "\n",
    "corona_df[\"population\"] = corona_df[\"iso3166-2\"].map(population_map)\n",
    "corona_df[\"cases_pc\"] = corona_df[\"confirmed_addition\"] / corona_df[\"population\"]\n",
    "\n",
    "weather_df = pd.read_csv(\"../data/raw/weather/weather.csv\")\n",
    "\n",
    "weather_df[\"TemperatureAboveGround\"] = weather_df[\"TemperatureAboveGround\"] - 273.15\n",
    "weather_df = weather_df[weather_df[\"iso3166-2\"].str.startswith(\"DE\")]\n",
    "\n",
    "df = corona_df.merge(weather_df)\n",
    "\n",
    "df"
   ]
  },
  {
   "cell_type": "code",
   "execution_count": null,
   "metadata": {},
   "outputs": [],
   "source": [
    "#Selecting the features/the collected weatherdata\n",
    "Xs = ['RelativeHumiditySurface', 'SolarRadiation', 'Surfacepressure', 'TemperatureAboveGround', \n",
    "    'Totalprecipitation', 'UVIndex', 'WindSpeed']\n",
    "\n",
    "#Adding a constant to the dataframe and the Xs list\n",
    "df = sm.add_constant(df)\n",
    "Xs.append(\"const\")"
   ]
  },
  {
   "cell_type": "code",
   "execution_count": null,
   "metadata": {},
   "outputs": [],
   "source": [
    "est = sm.OLS(df[\"confirmed_addition\"], df[Xs], hasconst = True).fit()\n",
    "\n",
    "\n",
    "print(est.summary())"
   ]
  },
  {
   "cell_type": "code",
   "execution_count": null,
   "metadata": {},
   "outputs": [],
   "source": [
    "#Selecting the features/the collected weatherdata\n",
    "Xs = ['RelativeHumiditySurface', 'SolarRadiation', 'Surfacepressure', 'TemperatureAboveGround', \n",
    "    'Totalprecipitation', 'UVIndex', 'WindSpeed']\n",
    "\n",
    "#Adding a constant to the dataframe and the Xs list\n",
    "df = sm.add_constant(df)\n",
    "Xs.append(\"const\")"
   ]
  },
  {
   "cell_type": "code",
   "execution_count": null,
   "metadata": {},
   "outputs": [],
   "source": [
    "log_est = sm.OLS(np.log(df[\"confirmed_addition\"] + 1), df[Xs], hasconst = True).fit()\n",
    "\n",
    "\n",
    "print(log_est.summary())"
   ]
  },
  {
   "cell_type": "code",
   "execution_count": null,
   "metadata": {},
   "outputs": [],
   "source": [
    "#Selecting the features/the collected weatherdata\n",
    "Xs = ['RelativeHumiditySurface', 'SolarRadiation', 'Surfacepressure', 'TemperatureAboveGround', \n",
    "    'Totalprecipitation', 'UVIndex', 'WindSpeed']\n",
    "\n",
    "#Adding a constant to the dataframe and the Xs list\n",
    "df = sm.add_constant(df)\n",
    "Xs.append(\"const\")"
   ]
  },
  {
   "cell_type": "code",
   "execution_count": null,
   "metadata": {},
   "outputs": [],
   "source": [
    "est_pc = sm.OLS(np.log(df[\"cases_pc\"] + 1), df[Xs], hasconst = True).fit()\n",
    "print(est_pc.summary())"
   ]
  },
  {
   "cell_type": "code",
   "execution_count": null,
   "metadata": {},
   "outputs": [],
   "source": [
    "regions = [\"const\",]\n",
    "\n",
    "for region in set(df[\"iso3166-2\"]):\n",
    "    if region != \"DE-BE\":\n",
    "        df[region] = (df[\"iso3166-2\"] == region).astype(int)\n",
    "        regions.append(region)\n",
    "        Xs.append(region)\n",
    "\n",
    "df"
   ]
  },
  {
   "cell_type": "code",
   "execution_count": null,
   "metadata": {},
   "outputs": [],
   "source": [
    "est_pc = sm.OLS(np.log(df[\"cases_pc\"] + 1), df[regions], hasconst = True).fit()\n",
    "print(est_pc.summary())"
   ]
  },
  {
   "cell_type": "code",
   "execution_count": null,
   "metadata": {},
   "outputs": [],
   "source": [
    "est_pc = sm.OLS(np.log(df[\"cases_pc\"] + 1), df[Xs], hasconst = True).fit()\n",
    "print(est_pc.summary())"
   ]
  },
  {
   "cell_type": "code",
   "execution_count": null,
   "metadata": {},
   "outputs": [],
   "source": [
    "est_clust = sm.OLS(np.log(df[\"cases_pc\"] + 1), df[Xs], hasconst = True).fit(cov_type = \"cluster\", cov_kwds ={\"groups\": df[\"iso3166-2\"]}, use_t = True)\n",
    "\n",
    "print(est_clust.summary())"
   ]
  }
 ],
 "metadata": {
  "interpreter": {
   "hash": "b989256eb56f7c452f8df4a64159a114113bfaae6a03bedf3a667d033260f0d6"
  },
  "kernelspec": {
   "display_name": "Python 3.9.7 ('base')",
   "language": "python",
   "name": "python3"
  },
  "language_info": {
   "codemirror_mode": {
    "name": "ipython",
    "version": 3
   },
   "file_extension": ".py",
   "mimetype": "text/x-python",
   "name": "python",
   "nbconvert_exporter": "python",
   "pygments_lexer": "ipython3",
   "version": "3.9.7"
  },
  "orig_nbformat": 4
 },
 "nbformat": 4,
 "nbformat_minor": 2
}
