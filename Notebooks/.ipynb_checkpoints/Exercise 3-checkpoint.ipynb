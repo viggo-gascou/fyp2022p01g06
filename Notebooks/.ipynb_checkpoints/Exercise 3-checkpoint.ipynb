{
 "cells": [
  {
   "cell_type": "code",
   "execution_count": null,
   "metadata": {},
   "outputs": [],
   "source": [
    "import json\n",
    "import numpy as np\n",
    "import pandas as pd\n",
    "import statsmodels.api as sm\n",
    "from scipy.stats import pearsonr, spearmanr\n",
    "from statsmodels.stats.multitest import multipletests"
   ]
  },
  {
   "cell_type": "code",
   "execution_count": null,
   "metadata": {},
   "outputs": [],
   "source": [
    "corona_df=pd.read_csv('../data/raw/corona/de_corona.csv',sep='\\t')\n",
    "with open('../data/raw/metadata/de_metadata.json','r', encoding=\"utf8\") as f:\n",
    "    country_metadata=json.load(f)\n",
    "\n",
    "region_map = {country_metadata[\"country_metadata\"][i][\"covid_region_code\"]: \n",
    "    country_metadata[\"country_metadata\"][i][\"iso3166-2_code\"] for i in range(len(country_metadata[\"country_metadata\"]))}\n",
    "corona_df[\"iso3166-2\"] = corona_df[\"region_code\"].map(region_map)\n",
    "\n",
    "corona_df"
   ]
  },
  {
   "cell_type": "code",
   "execution_count": null,
   "metadata": {},
   "outputs": [],
   "source": [
    "weather_df = pd.read_csv(\"../data/raw/weather/weather.csv\")\n",
    "\n",
    "weather_df[\"TemperatureAboveGround\"] = weather_df[\"TemperatureAboveGround\"] - 273.15\n",
    "weather_df = weather_df[weather_df[\"iso3166-2\"].str.startswith(\"DE\")]\n",
    "\n",
    "weather_df"
   ]
  },
  {
   "cell_type": "code",
   "execution_count": null,
   "metadata": {},
   "outputs": [],
   "source": [
    "merged_df = corona_df.merge(weather_df)\n",
    "\n",
    "merged_df"
   ]
  },
  {
   "cell_type": "code",
   "execution_count": null,
   "metadata": {},
   "outputs": [],
   "source": [
    "weather_lost = weather_df.shape[0]-merged_df.shape[0]\n",
    "corona_lost = corona_df.shape[0]-merged_df.shape[0]\n",
    "print(f\"We lost {weather_lost} rows from the weather dataset.\")\n",
    "print(f\"We lost {corona_lost} rows from the corona datset\")\n",
    "print(f\"We lost {weather_lost+corona_lost} rows in total, because presumeably the one of the datasets does not have the same amount of dates and so some rows are dropped\")\n"
   ]
  },
  {
   "cell_type": "code",
   "execution_count": null,
   "metadata": {},
   "outputs": [],
   "source": [
    "Xs = list(merged_df.columns[6:12])\n",
    "\n",
    "significance_threshold = 0.005\n",
    "\n",
    "for var in Xs:\n",
    "    corr, pvalue = pearsonr(merged_df[\"confirmed_addition\"], merged_df[var])\n",
    "    print(f\"{var}\\n{corr:.3f}\\t{pvalue}\\t{pvalue < significance_threshold}\\n\")\n"
   ]
  },
  {
   "cell_type": "code",
   "execution_count": null,
   "metadata": {},
   "outputs": [],
   "source": [
    "for var in Xs:\n",
    "    corr, pvalue = spearmanr(merged_df[\"confirmed_addition\"], merged_df[var])\n",
    "    print(f\"{var}\\n{corr:.3f}\\t{pvalue}\\t{pvalue < significance_threshold}\\n\")"
   ]
  },
  {
   "cell_type": "code",
   "execution_count": null,
   "metadata": {},
   "outputs": [],
   "source": [
    "for var in Xs:\n",
    "    corr, pvalue = pearsonr(np.log(merged_df[\"confirmed_addition\"] + 1), merged_df[var])\n",
    "    print(f\"{var}\\n{corr:.3f}\\t{pvalue}\\t{pvalue < significance_threshold}\\n\")"
   ]
  },
  {
   "cell_type": "code",
   "execution_count": null,
   "metadata": {},
   "outputs": [],
   "source": [
    "pvalues = []\n",
    "tests = [\"Linear\", \"Spearman\", \"Log\"],\n",
    "\n",
    "for var in Xs:\n",
    "    corr, pvalue = pearsonr(merged_df[\"confirmed_addition\"], merged_df[var])\n",
    "    pvalues.append(pvalue)\n",
    "\n",
    "for var in Xs:\n",
    "    corr, pvalue = spearmanr(merged_df[\"confirmed_addition\"], merged_df[var])\n",
    "    pvalues.append(pvalue)\n",
    "\n",
    "for var in Xs:\n",
    "    corr, pvalue = pearsonr(np.log(merged_df[\"confirmed_addition\"]), merged_df[var])\n",
    "    pvalues.append(pvalue)\n"
   ]
  },
  {
   "cell_type": "code",
   "execution_count": null,
   "metadata": {},
   "outputs": [],
   "source": [
    "significant, pholmcorrected, _, _ = multipletests(pvalues, alpha = 0.005, method = \"holm\")\n",
    "\n",
    "for i in range(len(tests)):\n",
    "    for j in range(len(Xs)):\n",
    "        print(f\"{tests[i]}\\t{Xs[j]}\\t{significant[i + j]}\")"
   ]
  },
  {
   "cell_type": "code",
   "execution_count": null,
   "metadata": {},
   "outputs": [],
   "source": []
  }
 ],
 "metadata": {
  "interpreter": {
   "hash": "b989256eb56f7c452f8df4a64159a114113bfaae6a03bedf3a667d033260f0d6"
  },
  "kernelspec": {
   "display_name": "Python 3",
   "language": "python",
   "name": "python3"
  },
  "language_info": {
   "codemirror_mode": {
    "name": "ipython",
    "version": 3
   },
   "file_extension": ".py",
   "mimetype": "text/x-python",
   "name": "python",
   "nbconvert_exporter": "python",
   "pygments_lexer": "ipython3",
   "version": "3.8.8"
  }
 },
 "nbformat": 4,
 "nbformat_minor": 2
}
