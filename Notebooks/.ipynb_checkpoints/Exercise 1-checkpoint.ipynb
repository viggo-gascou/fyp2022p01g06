{
 "cells": [
  {
   "cell_type": "code",
   "execution_count": null,
   "metadata": {},
   "outputs": [],
   "source": [
    "#Importing needed libraries\n",
    "import pandas as pd\n",
    "import numpy as np\n",
    "import matplotlib.pyplot as plt\n",
    "import folium, json"
   ]
  },
  {
   "cell_type": "markdown",
   "metadata": {},
   "source": [
    "# **Initial data loading and analysis**"
   ]
  },
  {
   "cell_type": "code",
   "execution_count": null,
   "metadata": {},
   "outputs": [],
   "source": [
    "data = pd.read_csv(\"../Data/raw/weather/weather.csv\")\n",
    "#Loading the data as a pandas dataframe"
   ]
  },
  {
   "cell_type": "code",
   "execution_count": null,
   "metadata": {},
   "outputs": [],
   "source": [
    "# Print the number of rows and columns\n",
    "row, cols = data.shape\n",
    "\n",
    "print(\"Number of Rows: \" + str(row))\n",
    "print(\"Number of Columns: \" + str(cols))"
   ]
  },
  {
   "cell_type": "code",
   "execution_count": null,
   "metadata": {},
   "outputs": [],
   "source": [
    "# make a sanity check: are there missing values anywhere in the weather data?\n",
    "print(data.isnull().any())\n",
    "print(\"\\n\"\"There are no missing values in the dataset!\" if not data.isnull().any().any() \n",
    "        else \"There are missing values in the dataset\")"
   ]
  },
  {
   "cell_type": "code",
   "execution_count": null,
   "metadata": {},
   "outputs": [],
   "source": [
    "#Making a dataset that only contains weatherdata from Germany\n",
    "is_DE = data[data['iso3166-2'].str.startswith('DE')]\n",
    "is_DE"
   ]
  },
  {
   "cell_type": "code",
   "execution_count": null,
   "metadata": {},
   "outputs": [],
   "source": [
    "#Making a dataset grouped by region aggregated by min, mean, median and max\n",
    "weather_by_region = is_DE.groupby(by=\"iso3166-2\").agg([\"min\",\"mean\",\"median\",\"max\"])\n",
    "weather_by_region"
   ]
  },
  {
   "cell_type": "code",
   "execution_count": null,
   "metadata": {},
   "outputs": [],
   "source": [
    "#Plotting the mean SolarRadiation by region as a barplot\n",
    "weather_by_region[\"SolarRadiation\"][\"mean\"].plot.bar(figsize=(10,8));\n"
   ]
  },
  {
   "cell_type": "code",
   "execution_count": null,
   "metadata": {},
   "outputs": [],
   "source": [
    "#Making a dataset that is grouped by date and aggregated only by the mean values\n",
    "date_agg = is_DE.groupby(by=\"date\").agg([\"mean\"])\n",
    "date_agg"
   ]
  },
  {
   "cell_type": "code",
   "execution_count": null,
   "metadata": {},
   "outputs": [],
   "source": [
    "#Plotting the mean SolarRadiation by date as a lineplot\n",
    "date_agg[\"SolarRadiation\"][\"mean\"][:10].plot.line(figsize=(6,6));"
   ]
  }
 ],
 "metadata": {
  "interpreter": {
   "hash": "b989256eb56f7c452f8df4a64159a114113bfaae6a03bedf3a667d033260f0d6"
  },
  "kernelspec": {
   "display_name": "Python 3.9.7 ('base')",
   "language": "python",
   "name": "python3"
  },
  "language_info": {
   "codemirror_mode": {
    "name": "ipython",
    "version": 3
   },
   "file_extension": ".py",
   "mimetype": "text/x-python",
   "name": "python",
   "nbconvert_exporter": "python",
   "pygments_lexer": "ipython3",
   "version": "3.9.7"
  },
  "orig_nbformat": 4
 },
 "nbformat": 4,
 "nbformat_minor": 2
}
