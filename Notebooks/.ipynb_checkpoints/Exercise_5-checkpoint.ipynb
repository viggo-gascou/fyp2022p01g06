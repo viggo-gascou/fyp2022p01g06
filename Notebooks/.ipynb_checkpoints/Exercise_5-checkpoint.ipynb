{
 "cells": [
  {
   "cell_type": "code",
   "execution_count": null,
   "metadata": {},
   "outputs": [],
   "source": [
    "import json\n",
    "import numpy as np\n",
    "import pandas as pd\n",
    "import statsmodels.api as sm\n",
    "from scipy.stats import pearsonr, spearmanr"
   ]
  },
  {
   "cell_type": "code",
   "execution_count": null,
   "metadata": {},
   "outputs": [],
   "source": [
    "corona_df = pd.read_csv(\"../Data/processed/de_corona.csv\")\n",
    "\n",
    "weather_df = pd.read_csv(\"../Data/processed/de_weather.csv\")\n",
    "\n",
    "df = pd.read_csv(\"../Data/processed/de_corona_weather.csv\")\n",
    "\n",
    "df"
   ]
  },
  {
   "cell_type": "code",
   "execution_count": null,
   "metadata": {
    "scrolled": true
   },
   "outputs": [],
   "source": [
    "owid = pd.read_csv(\"../Data/external/Our_World_in_Data_DE_Covid-data.csv\")\n",
    "owid = owid[owid[\"iso_code\"] == \"DEU\"][['date', 'stringency_index']].dropna()\n",
    "\n",
    "df = df.merge(owid, on = \"date\")\n",
    "df"
   ]
  },
  {
   "cell_type": "code",
   "execution_count": null,
   "metadata": {},
   "outputs": [],
   "source": [
    "hdi = pd.read_csv(\"../Data/external/Subnational_HDI2.csv\")\n",
    "\n",
    "df = df.merge(hdi, on = \"region_code\")\n",
    "df"
   ]
  },
  {
   "cell_type": "code",
   "execution_count": null,
   "metadata": {},
   "outputs": [],
   "source": [
    "Xs = [\"TemperatureAboveGround\", \"UVIndex\"]\n",
    "df = sm.add_constant(df)\n",
    "Xs.append(\"const\")\n",
    "\n",
    "for region in set(df[\"iso3166-2\"]):\n",
    "    if region != \"DK-81\":\n",
    "        df[region] = (df[\"iso3166-2\"] == region).astype(int)\n",
    "        Xs.append(region)\n",
    "        \n",
    "Xs.append(\"stringency_index\")\n",
    "est = sm.OLS(np.log(df[\"cases_pc\"] + 1), df[Xs], hasconst = True).fit(cov_type = \"cluster\", cov_kwds = {\"groups\": df[\"iso3166-2\"]}, use_t = True)\n",
    "print(est.summary())"
   ]
  },
  {
   "cell_type": "code",
   "execution_count": null,
   "metadata": {},
   "outputs": [],
   "source": [
    "Xs = ['TemperatureAboveGround', 'UVIndex']\n",
    "Xs.append('const')\n",
    "Xs.append('HDI')\n",
    "\n",
    "est = sm.OLS(np.log(df[\"cases_pc\"] + 1), df[Xs], hasconst = True).fit(cov_type = \"cluster\", cov_kwds = {\"groups\": df[\"iso3166-2\"]}, use_t = True)\n",
    "print(est.summary())"
   ]
  }
 ],
 "metadata": {
  "interpreter": {
   "hash": "b989256eb56f7c452f8df4a64159a114113bfaae6a03bedf3a667d033260f0d6"
  },
  "kernelspec": {
   "display_name": "Python 3",
   "language": "python",
   "name": "python3"
  },
  "language_info": {
   "codemirror_mode": {
    "name": "ipython",
    "version": 3
   },
   "file_extension": ".py",
   "mimetype": "text/x-python",
   "name": "python",
   "nbconvert_exporter": "python",
   "pygments_lexer": "ipython3",
   "version": "3.8.8"
  }
 },
 "nbformat": 4,
 "nbformat_minor": 2
}
