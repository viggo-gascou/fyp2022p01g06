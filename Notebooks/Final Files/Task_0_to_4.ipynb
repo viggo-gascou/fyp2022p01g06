{
 "cells": [
  {
   "cell_type": "markdown",
   "metadata": {},
   "source": [
    "# First Year Project - Project 1 - Corona and Weather"
   ]
  },
  {
   "cell_type": "markdown",
   "metadata": {},
   "source": [
    "----\n",
    "#### **Group 6(F)**: Bjørn Søvad (bjso@itu.dk), Katarina Kraljevic (katkr@itu.dk), Mirka Katuscáková (katu@itu.dk), Emma Cecilie Bjerring Jensen (emcj@itu.dk), Viggo Yann Unmack Gascou (viga@itu.dk)\n",
    "----"
   ]
  },
  {
   "cell_type": "markdown",
   "metadata": {},
   "source": [
    "## Required Libraries\n",
    "* [Pandas Documentation](https://pandas.pydata.org/docs/)\n",
    "* [Numpy Documentation](https://numpy.org/doc/)\n",
    "* [Folium Documentation](https://python-visualization.github.io/folium/)\n",
    "* [Json Documentation](https://docs.python.org/3/library/json.html)\n",
    "* [Statsmodels Documentation](https://www.statsmodels.org/stable/)\n",
    "* [Scipy Documentation](https://scipy.github.io/devdocs/index.html)"
   ]
  },
  {
   "cell_type": "code",
   "execution_count": 1,
   "metadata": {},
   "outputs": [],
   "source": [
    "#Importing needed libraries\n",
    "import pandas as pd                                                            # provides major datastructure pd.DataFrame() to store the datasets\n",
    "import numpy as np                                                             # used for numerical calculations and fast array manipulations\n",
    "import folium                                                                  # used for spatial data visualizations\n",
    "import json                                                                    # used for loading json data correctly\n",
    "import statsmodels.api as sm                                                   # used to run multivariate linear regression\n",
    "from scipy.stats import pearsonr, spearmanr                                    # used to run `pearson` and `spearman` association tests of numerical variables on two variables\n",
    "from statsmodels.stats.multitest import multipletests                          # used to run multiple tests of p-values for multiple variables"
   ]
  },
  {
   "cell_type": "markdown",
   "metadata": {},
   "source": [
    "### Loading the raw data"
   ]
  },
  {
   "cell_type": "code",
   "execution_count": 41,
   "metadata": {},
   "outputs": [],
   "source": [
    "#Importing the raw corona data from Germany\n",
    "corona_df = pd.read_csv('../../data/raw/corona/de_corona.csv', sep = '\\t')\n",
    "corona_df.name = 'corona_df'\n",
    "\n",
    "#Importing the raw weather data for the countries, Germany, Netherlands, Sweden and Denmark\n",
    "weather_df = pd.read_csv(\"../../data/raw/weather/weather.csv\")\n",
    "weather_df.name = 'weather_df'\n",
    "\n",
    "#Loading in the metadata json using the Python json library\n",
    "with open('../../data/raw/metadata/de_metadata.json','r', encoding=\"utf8\") as f:\n",
    "    country_metadata=json.load(f)\n",
    "\n",
    "#Creating a folium map (called de_map) that is based around Germany and uneditable in terms of placement and zoom\n",
    "de_map = folium.Map(location = [51.1657, 10.4515], zoom_start = 6, crs = 'EPSG3857', \n",
    "    zoom_control = False, scrollWheelZoom = False, dragging = False)\n",
    "\n",
    "#Loading in the geojson that contains data for the regions and borders of Germany and adding it to the folium map\n",
    "folium.GeoJson('../../data/raw/shapefiles/de.geojson', name = \"geojson\").add_to(de_map)\n",
    "folium.LayerControl().add_to(de_map);\n"
   ]
  },
  {
   "cell_type": "markdown",
   "metadata": {},
   "source": [
    "### Task 0: Data filtering and cleaning"
   ]
  },
  {
   "cell_type": "markdown",
   "metadata": {},
   "source": [
    "The data analysis done in this notebook is done with a handful of different datasets:\n",
    "\n",
    "> CSV: Corona (DE) - Contains the Number of new infections (per day) and Number of new casualties (per day) filtered by day and region in Germany.\n",
    ">\n",
    "> CSV: Weather - Contains information about several indicators of weather conditions for each region in Germany, Denmark, Sweden and the Netherlands for each day in the period `2020-02-13` to `2021-02-21`\n",
    ">\n",
    "> JSON: Metadata (DE) - Contains more information about the different regions in Germany\n",
    ">\n",
    "> GEOJSON: Geojson (DE) - Holds the geojson data for the different regions in Germany"
   ]
  },
  {
   "cell_type": "markdown",
   "metadata": {},
   "source": [
    "### Initial inspection of the datasets"
   ]
  },
  {
   "cell_type": "code",
   "execution_count": 21,
   "metadata": {},
   "outputs": [
    {
     "data": {
      "text/html": [
       "<div>\n",
       "<style scoped>\n",
       "    .dataframe tbody tr th:only-of-type {\n",
       "        vertical-align: middle;\n",
       "    }\n",
       "\n",
       "    .dataframe tbody tr th {\n",
       "        vertical-align: top;\n",
       "    }\n",
       "\n",
       "    .dataframe thead th {\n",
       "        text-align: right;\n",
       "    }\n",
       "</style>\n",
       "<table border=\"1\" class=\"dataframe\">\n",
       "  <thead>\n",
       "    <tr style=\"text-align: right;\">\n",
       "      <th></th>\n",
       "      <th>RelativeHumiditySurface</th>\n",
       "      <th>SolarRadiation</th>\n",
       "      <th>Surfacepressure</th>\n",
       "      <th>TemperatureAboveGround</th>\n",
       "      <th>Totalprecipitation</th>\n",
       "      <th>UVIndex</th>\n",
       "      <th>WindSpeed</th>\n",
       "    </tr>\n",
       "  </thead>\n",
       "  <tbody>\n",
       "    <tr>\n",
       "      <th>count</th>\n",
       "      <td>6000.000000</td>\n",
       "      <td>6.000000e+03</td>\n",
       "      <td>6.000000e+03</td>\n",
       "      <td>6000.000000</td>\n",
       "      <td>6000.000000</td>\n",
       "      <td>6000.000000</td>\n",
       "      <td>6000.000000</td>\n",
       "    </tr>\n",
       "    <tr>\n",
       "      <th>mean</th>\n",
       "      <td>74.332120</td>\n",
       "      <td>6.678336e+06</td>\n",
       "      <td>2.379588e+06</td>\n",
       "      <td>10.131258</td>\n",
       "      <td>0.002206</td>\n",
       "      <td>16.050800</td>\n",
       "      <td>3.503221</td>\n",
       "    </tr>\n",
       "    <tr>\n",
       "      <th>std</th>\n",
       "      <td>13.595421</td>\n",
       "      <td>6.212940e+06</td>\n",
       "      <td>5.121144e+04</td>\n",
       "      <td>7.146610</td>\n",
       "      <td>0.003439</td>\n",
       "      <td>14.515517</td>\n",
       "      <td>1.438837</td>\n",
       "    </tr>\n",
       "    <tr>\n",
       "      <th>min</th>\n",
       "      <td>33.880265</td>\n",
       "      <td>0.000000e+00</td>\n",
       "      <td>2.212828e+06</td>\n",
       "      <td>-12.618286</td>\n",
       "      <td>0.000000</td>\n",
       "      <td>0.000000</td>\n",
       "      <td>1.091346</td>\n",
       "    </tr>\n",
       "    <tr>\n",
       "      <th>25%</th>\n",
       "      <td>64.268213</td>\n",
       "      <td>1.090176e+06</td>\n",
       "      <td>2.343795e+06</td>\n",
       "      <td>4.687390</td>\n",
       "      <td>0.000054</td>\n",
       "      <td>2.500231</td>\n",
       "      <td>2.427226</td>\n",
       "    </tr>\n",
       "    <tr>\n",
       "      <th>50%</th>\n",
       "      <td>76.469758</td>\n",
       "      <td>4.610296e+06</td>\n",
       "      <td>2.385826e+06</td>\n",
       "      <td>10.078646</td>\n",
       "      <td>0.000684</td>\n",
       "      <td>12.720154</td>\n",
       "      <td>3.202055</td>\n",
       "    </tr>\n",
       "    <tr>\n",
       "      <th>75%</th>\n",
       "      <td>85.703146</td>\n",
       "      <td>1.150929e+07</td>\n",
       "      <td>2.422283e+06</td>\n",
       "      <td>15.722994</td>\n",
       "      <td>0.002907</td>\n",
       "      <td>27.398392</td>\n",
       "      <td>4.261427</td>\n",
       "    </tr>\n",
       "    <tr>\n",
       "      <th>max</th>\n",
       "      <td>98.264247</td>\n",
       "      <td>2.370823e+07</td>\n",
       "      <td>2.497243e+06</td>\n",
       "      <td>27.810922</td>\n",
       "      <td>0.031971</td>\n",
       "      <td>52.792235</td>\n",
       "      <td>11.221876</td>\n",
       "    </tr>\n",
       "  </tbody>\n",
       "</table>\n",
       "</div>"
      ],
      "text/plain": [
       "       RelativeHumiditySurface  SolarRadiation  Surfacepressure  \\\n",
       "count              6000.000000    6.000000e+03     6.000000e+03   \n",
       "mean                 74.332120    6.678336e+06     2.379588e+06   \n",
       "std                  13.595421    6.212940e+06     5.121144e+04   \n",
       "min                  33.880265    0.000000e+00     2.212828e+06   \n",
       "25%                  64.268213    1.090176e+06     2.343795e+06   \n",
       "50%                  76.469758    4.610296e+06     2.385826e+06   \n",
       "75%                  85.703146    1.150929e+07     2.422283e+06   \n",
       "max                  98.264247    2.370823e+07     2.497243e+06   \n",
       "\n",
       "       TemperatureAboveGround  Totalprecipitation      UVIndex    WindSpeed  \n",
       "count             6000.000000         6000.000000  6000.000000  6000.000000  \n",
       "mean                10.131258            0.002206    16.050800     3.503221  \n",
       "std                  7.146610            0.003439    14.515517     1.438837  \n",
       "min                -12.618286            0.000000     0.000000     1.091346  \n",
       "25%                  4.687390            0.000054     2.500231     2.427226  \n",
       "50%                 10.078646            0.000684    12.720154     3.202055  \n",
       "75%                 15.722994            0.002907    27.398392     4.261427  \n",
       "max                 27.810922            0.031971    52.792235    11.221876  "
      ]
     },
     "execution_count": 21,
     "metadata": {},
     "output_type": "execute_result"
    }
   ],
   "source": [
    "weather_df.describe()"
   ]
  },
  {
   "cell_type": "markdown",
   "metadata": {},
   "source": [
    "We can see here that `weather` dataset contains "
   ]
  },
  {
   "cell_type": "code",
   "execution_count": null,
   "metadata": {},
   "outputs": [
    {
     "data": {
      "text/html": [
       "<div>\n",
       "<style scoped>\n",
       "    .dataframe tbody tr th:only-of-type {\n",
       "        vertical-align: middle;\n",
       "    }\n",
       "\n",
       "    .dataframe tbody tr th {\n",
       "        vertical-align: top;\n",
       "    }\n",
       "\n",
       "    .dataframe thead th {\n",
       "        text-align: right;\n",
       "    }\n",
       "</style>\n",
       "<table border=\"1\" class=\"dataframe\">\n",
       "  <thead>\n",
       "    <tr style=\"text-align: right;\">\n",
       "      <th></th>\n",
       "      <th>date</th>\n",
       "      <th>region_code</th>\n",
       "      <th>confirmed_addition</th>\n",
       "      <th>deceased_addition</th>\n",
       "      <th>iso3166-2</th>\n",
       "      <th>population</th>\n",
       "      <th>cases_pc</th>\n",
       "    </tr>\n",
       "  </thead>\n",
       "  <tbody>\n",
       "    <tr>\n",
       "      <th>0</th>\n",
       "      <td>2020-01-02</td>\n",
       "      <td>Nordrhein-Westfalen</td>\n",
       "      <td>1</td>\n",
       "      <td>0</td>\n",
       "      <td>DE-NW</td>\n",
       "      <td>17932651</td>\n",
       "      <td>5.576420e-08</td>\n",
       "    </tr>\n",
       "    <tr>\n",
       "      <th>1</th>\n",
       "      <td>2020-01-07</td>\n",
       "      <td>Nordrhein-Westfalen</td>\n",
       "      <td>1</td>\n",
       "      <td>0</td>\n",
       "      <td>DE-NW</td>\n",
       "      <td>17932651</td>\n",
       "      <td>5.576420e-08</td>\n",
       "    </tr>\n",
       "    <tr>\n",
       "      <th>2</th>\n",
       "      <td>2020-01-09</td>\n",
       "      <td>Nordrhein-Westfalen</td>\n",
       "      <td>1</td>\n",
       "      <td>1</td>\n",
       "      <td>DE-NW</td>\n",
       "      <td>17932651</td>\n",
       "      <td>5.576420e-08</td>\n",
       "    </tr>\n",
       "    <tr>\n",
       "      <th>3</th>\n",
       "      <td>2020-01-12</td>\n",
       "      <td>Nordrhein-Westfalen</td>\n",
       "      <td>1</td>\n",
       "      <td>0</td>\n",
       "      <td>DE-NW</td>\n",
       "      <td>17932651</td>\n",
       "      <td>5.576420e-08</td>\n",
       "    </tr>\n",
       "    <tr>\n",
       "      <th>4</th>\n",
       "      <td>2020-01-14</td>\n",
       "      <td>Nordrhein-Westfalen</td>\n",
       "      <td>1</td>\n",
       "      <td>0</td>\n",
       "      <td>DE-NW</td>\n",
       "      <td>17932651</td>\n",
       "      <td>5.576420e-08</td>\n",
       "    </tr>\n",
       "  </tbody>\n",
       "</table>\n",
       "</div>"
      ],
      "text/plain": [
       "         date          region_code  confirmed_addition  deceased_addition  \\\n",
       "0  2020-01-02  Nordrhein-Westfalen                   1                  0   \n",
       "1  2020-01-07  Nordrhein-Westfalen                   1                  0   \n",
       "2  2020-01-09  Nordrhein-Westfalen                   1                  1   \n",
       "3  2020-01-12  Nordrhein-Westfalen                   1                  0   \n",
       "4  2020-01-14  Nordrhein-Westfalen                   1                  0   \n",
       "\n",
       "  iso3166-2  population      cases_pc  \n",
       "0     DE-NW    17932651  5.576420e-08  \n",
       "1     DE-NW    17932651  5.576420e-08  \n",
       "2     DE-NW    17932651  5.576420e-08  \n",
       "3     DE-NW    17932651  5.576420e-08  \n",
       "4     DE-NW    17932651  5.576420e-08  "
      ]
     },
     "metadata": {},
     "output_type": "display_data"
    }
   ],
   "source": [
    "corona_df.head()"
   ]
  },
  {
   "cell_type": "code",
   "execution_count": 50,
   "metadata": {},
   "outputs": [
    {
     "name": "stdout",
     "output_type": "stream",
     "text": [
      "Weather Dataset\n",
      "date                       False\n",
      "iso3166-2                  False\n",
      "RelativeHumiditySurface    False\n",
      "SolarRadiation             False\n",
      "Surfacepressure            False\n",
      "TemperatureAboveGround     False\n",
      "Totalprecipitation         False\n",
      "UVIndex                    False\n",
      "WindSpeed                  False\n",
      "dtype: bool\n",
      "----------------------------------------------\n",
      "There are no missing values in the dataset!\n",
      "______________________________________________\n",
      "Corona Dataset\n",
      "date                  False\n",
      "region_code           False\n",
      "confirmed_addition    False\n",
      "deceased_addition     False\n",
      "dtype: bool\n",
      "----------------------------------------------\n",
      "There are no missing values in the dataset!\n",
      "______________________________________________\n"
     ]
    }
   ],
   "source": [
    "datasets = [weather_df, corona_df]\n",
    "for dataset in datasets:\n",
    "    if dataset.name == \"weather_df\":\n",
    "        print(\"Weather Dataset\")\n",
    "    else: print(\"Corona Dataset\")\n",
    "    print(dataset.isnull().any())\n",
    "    print(\"----------------------------------------------\")\n",
    "    print(\"There are no missing values in the dataset!\" if not dataset.isnull().any().any() \n",
    "            else \"There are missing values in the dataset\")\n",
    "    print(\"______________________________________________\")\n"
   ]
  },
  {
   "cell_type": "code",
   "execution_count": 18,
   "metadata": {},
   "outputs": [],
   "source": [
    "#Creating a dictionary that contains the full names of the different regions as keys and their respective iso3166-2 code as values\n",
    "region_map = {country_metadata[\"country_metadata\"][i][\"covid_region_code\"]: \n",
    "    country_metadata[\"country_metadata\"][i][\"iso3166-2_code\"] for i in range(len(country_metadata[\"country_metadata\"]))}\n",
    "\n",
    "#Using the region_map dictionary to create a new column with the respective iso3166-2 code for each region based on the full region name\n",
    "#from the region_code column\n",
    "corona_df[\"iso3166-2\"] = corona_df[\"region_code\"].map(region_map)\n",
    "\n",
    "#Creating a dictionary that contains the full names of the different regions as keys and their respective populations as values\n",
    "population_map = {country_metadata[\"country_metadata\"][i][\"iso3166-2_code\"]: \n",
    "    country_metadata[\"country_metadata\"][i][\"population\"] for i in range(len(country_metadata[\"country_metadata\"]))}\n",
    "\n",
    "#Using the population_map dictionary to create a new column with the respective population for each region based on the iso3166-2 code\n",
    "#from the iso3166-2 column\n",
    "corona_df[\"population\"] = corona_df[\"iso3166-2\"].map(population_map)\n",
    "\n",
    "#Also adding a cases per capita column that is created using the confirmed amount of covid cases divided by the population in that region\n",
    "corona_df[\"cases_pc\"] = corona_df[\"confirmed_addition\"] / corona_df[\"population\"]\n",
    "\n",
    "#Converting the temperature from Kelvin to Celsius\n",
    "weather_df[\"TemperatureAboveGround\"] = weather_df[\"TemperatureAboveGround\"] - 273.15\n",
    "\n",
    "#Filtering out all the weather data that is not relevant as we are only interested in weatherdata from Germany\n",
    "weather_df = weather_df[weather_df[\"iso3166-2\"].str.startswith(\"DE\")]\n",
    "\n",
    "#Merging the weatherdata with the coronadata to create one dataframe with all the data that we need\n",
    "df = corona_df.merge(weather_df)"
   ]
  },
  {
   "cell_type": "markdown",
   "metadata": {},
   "source": [
    "### Inspection of the datasets"
   ]
  },
  {
   "cell_type": "code",
   "execution_count": null,
   "metadata": {},
   "outputs": [],
   "source": [
    "df = pd.read_csv(\"../../Data/processed/de_weather+cases.csv\")\n",
    "corona_df = pd.read_csv(\"../../Data/processed/de_corona.csv\")\n",
    "# case_by_region\n",
    "# case_by_region = case_by_region.set_index(['iso3166-2', case_by_region.index])\n",
    "# case_by_region\n",
    "df.describe()\n"
   ]
  }
 ],
 "metadata": {
  "interpreter": {
   "hash": "b989256eb56f7c452f8df4a64159a114113bfaae6a03bedf3a667d033260f0d6"
  },
  "kernelspec": {
   "display_name": "Python 3.9.7 ('base')",
   "language": "python",
   "name": "python3"
  },
  "language_info": {
   "codemirror_mode": {
    "name": "ipython",
    "version": 3
   },
   "file_extension": ".py",
   "mimetype": "text/x-python",
   "name": "python",
   "nbconvert_exporter": "python",
   "pygments_lexer": "ipython3",
   "version": "3.9.7"
  },
  "orig_nbformat": 4
 },
 "nbformat": 4,
 "nbformat_minor": 2
}
