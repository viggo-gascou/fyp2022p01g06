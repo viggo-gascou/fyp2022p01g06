{
 "cells": [
  {
   "cell_type": "code",
   "execution_count": null,
   "metadata": {},
   "outputs": [],
   "source": [
    "import pandas as pd\n",
    "import numpy as np\n",
    "import matplotlib.pyplot as plt"
   ]
  },
  {
   "cell_type": "code",
   "execution_count": null,
   "metadata": {},
   "outputs": [],
   "source": [
    "data = pd.read_csv(\"../Data/raw/weather/weather.csv\")\n"
   ]
  },
  {
   "cell_type": "code",
   "execution_count": null,
   "metadata": {},
   "outputs": [],
   "source": [
    "rows = len(data.axes[0])\n",
    "cols = len(data.axes[1])\n",
    "  \n",
    "# Print the number of rows and columns\n",
    "print(\"Number of Rows: \" + str(rows))\n",
    "print(\"Number of Columns: \" + str(cols))"
   ]
  },
  {
   "cell_type": "code",
   "execution_count": null,
   "metadata": {},
   "outputs": [],
   "source": [
    "# make a sanity check: are there missing values anywhere in the weather data?\n",
    "data.isnull().values.any()"
   ]
  },
  {
   "cell_type": "code",
   "execution_count": null,
   "metadata": {},
   "outputs": [],
   "source": [
    "is_DE = data[data['iso3166-2'].str.startswith('DE')]\n",
    "is_DE"
   ]
  },
  {
   "cell_type": "code",
   "execution_count": null,
   "metadata": {},
   "outputs": [],
   "source": [
    "weather_by_region = is_DE.groupby(by=\"iso3166-2\").agg([\"min\",\"mean\",\"median\",\"max\"])\n",
    "weather_by_region"
   ]
  },
  {
   "cell_type": "code",
   "execution_count": null,
   "metadata": {},
   "outputs": [],
   "source": [
    "weather_by_region[\"SolarRadiation\"][\"mean\"].plot.barh(figsize=(15,12));"
   ]
  },
  {
   "cell_type": "code",
   "execution_count": 18,
   "metadata": {},
   "outputs": [
    {
     "data": {
      "text/html": [
       "<div>\n",
       "<style scoped>\n",
       "    .dataframe tbody tr th:only-of-type {\n",
       "        vertical-align: middle;\n",
       "    }\n",
       "\n",
       "    .dataframe tbody tr th {\n",
       "        vertical-align: top;\n",
       "    }\n",
       "\n",
       "    .dataframe thead tr th {\n",
       "        text-align: left;\n",
       "    }\n",
       "\n",
       "    .dataframe thead tr:last-of-type th {\n",
       "        text-align: right;\n",
       "    }\n",
       "</style>\n",
       "<table border=\"1\" class=\"dataframe\">\n",
       "  <thead>\n",
       "    <tr>\n",
       "      <th></th>\n",
       "      <th>RelativeHumiditySurface</th>\n",
       "      <th>SolarRadiation</th>\n",
       "      <th>Surfacepressure</th>\n",
       "      <th>TemperatureAboveGround</th>\n",
       "      <th>Totalprecipitation</th>\n",
       "      <th>UVIndex</th>\n",
       "      <th>WindSpeed</th>\n",
       "    </tr>\n",
       "    <tr>\n",
       "      <th></th>\n",
       "      <th>mean</th>\n",
       "      <th>mean</th>\n",
       "      <th>mean</th>\n",
       "      <th>mean</th>\n",
       "      <th>mean</th>\n",
       "      <th>mean</th>\n",
       "      <th>mean</th>\n",
       "    </tr>\n",
       "    <tr>\n",
       "      <th>date</th>\n",
       "      <th></th>\n",
       "      <th></th>\n",
       "      <th></th>\n",
       "      <th></th>\n",
       "      <th></th>\n",
       "      <th></th>\n",
       "      <th></th>\n",
       "    </tr>\n",
       "  </thead>\n",
       "  <tbody>\n",
       "    <tr>\n",
       "      <th>2020-02-13</th>\n",
       "      <td>83.550416</td>\n",
       "      <td>9.232296e+05</td>\n",
       "      <td>2.361713e+06</td>\n",
       "      <td>276.080346</td>\n",
       "      <td>5.424938e-03</td>\n",
       "      <td>3.045868</td>\n",
       "      <td>4.677214</td>\n",
       "    </tr>\n",
       "    <tr>\n",
       "      <th>2020-02-14</th>\n",
       "      <td>87.038057</td>\n",
       "      <td>1.189954e+06</td>\n",
       "      <td>2.385722e+06</td>\n",
       "      <td>277.740734</td>\n",
       "      <td>1.314438e-03</td>\n",
       "      <td>1.875386</td>\n",
       "      <td>3.260335</td>\n",
       "    </tr>\n",
       "    <tr>\n",
       "      <th>2020-02-15</th>\n",
       "      <td>78.429711</td>\n",
       "      <td>2.849352e+06</td>\n",
       "      <td>2.388378e+06</td>\n",
       "      <td>279.481576</td>\n",
       "      <td>1.507500e-04</td>\n",
       "      <td>3.958054</td>\n",
       "      <td>4.619485</td>\n",
       "    </tr>\n",
       "    <tr>\n",
       "      <th>2020-02-16</th>\n",
       "      <td>63.587472</td>\n",
       "      <td>7.130768e+05</td>\n",
       "      <td>2.360307e+06</td>\n",
       "      <td>284.575068</td>\n",
       "      <td>4.384375e-03</td>\n",
       "      <td>3.224329</td>\n",
       "      <td>7.988258</td>\n",
       "    </tr>\n",
       "    <tr>\n",
       "      <th>2020-02-17</th>\n",
       "      <td>73.292063</td>\n",
       "      <td>1.628548e+06</td>\n",
       "      <td>2.373769e+06</td>\n",
       "      <td>280.940914</td>\n",
       "      <td>3.835562e-03</td>\n",
       "      <td>3.951442</td>\n",
       "      <td>6.621854</td>\n",
       "    </tr>\n",
       "    <tr>\n",
       "      <th>...</th>\n",
       "      <td>...</td>\n",
       "      <td>...</td>\n",
       "      <td>...</td>\n",
       "      <td>...</td>\n",
       "      <td>...</td>\n",
       "      <td>...</td>\n",
       "      <td>...</td>\n",
       "    </tr>\n",
       "    <tr>\n",
       "      <th>2021-02-17</th>\n",
       "      <td>88.572442</td>\n",
       "      <td>1.161559e+06</td>\n",
       "      <td>2.382257e+06</td>\n",
       "      <td>278.646276</td>\n",
       "      <td>1.361375e-03</td>\n",
       "      <td>2.553174</td>\n",
       "      <td>4.053323</td>\n",
       "    </tr>\n",
       "    <tr>\n",
       "      <th>2021-02-18</th>\n",
       "      <td>81.035245</td>\n",
       "      <td>2.263309e+06</td>\n",
       "      <td>2.377988e+06</td>\n",
       "      <td>279.161078</td>\n",
       "      <td>2.961500e-03</td>\n",
       "      <td>4.127690</td>\n",
       "      <td>3.631289</td>\n",
       "    </tr>\n",
       "    <tr>\n",
       "      <th>2021-02-19</th>\n",
       "      <td>80.723951</td>\n",
       "      <td>4.444755e+06</td>\n",
       "      <td>2.384026e+06</td>\n",
       "      <td>278.902828</td>\n",
       "      <td>9.605000e-04</td>\n",
       "      <td>4.426027</td>\n",
       "      <td>3.576306</td>\n",
       "    </tr>\n",
       "    <tr>\n",
       "      <th>2021-02-20</th>\n",
       "      <td>76.146906</td>\n",
       "      <td>5.662742e+06</td>\n",
       "      <td>2.384816e+06</td>\n",
       "      <td>280.868363</td>\n",
       "      <td>2.562500e-06</td>\n",
       "      <td>5.425528</td>\n",
       "      <td>3.224941</td>\n",
       "    </tr>\n",
       "    <tr>\n",
       "      <th>2021-02-21</th>\n",
       "      <td>70.593190</td>\n",
       "      <td>7.409050e+06</td>\n",
       "      <td>2.384982e+06</td>\n",
       "      <td>281.739434</td>\n",
       "      <td>5.625000e-07</td>\n",
       "      <td>6.094113</td>\n",
       "      <td>2.966055</td>\n",
       "    </tr>\n",
       "  </tbody>\n",
       "</table>\n",
       "<p>375 rows × 7 columns</p>\n",
       "</div>"
      ],
      "text/plain": [
       "           RelativeHumiditySurface SolarRadiation Surfacepressure  \\\n",
       "                              mean           mean            mean   \n",
       "date                                                                \n",
       "2020-02-13               83.550416   9.232296e+05    2.361713e+06   \n",
       "2020-02-14               87.038057   1.189954e+06    2.385722e+06   \n",
       "2020-02-15               78.429711   2.849352e+06    2.388378e+06   \n",
       "2020-02-16               63.587472   7.130768e+05    2.360307e+06   \n",
       "2020-02-17               73.292063   1.628548e+06    2.373769e+06   \n",
       "...                            ...            ...             ...   \n",
       "2021-02-17               88.572442   1.161559e+06    2.382257e+06   \n",
       "2021-02-18               81.035245   2.263309e+06    2.377988e+06   \n",
       "2021-02-19               80.723951   4.444755e+06    2.384026e+06   \n",
       "2021-02-20               76.146906   5.662742e+06    2.384816e+06   \n",
       "2021-02-21               70.593190   7.409050e+06    2.384982e+06   \n",
       "\n",
       "           TemperatureAboveGround Totalprecipitation   UVIndex WindSpeed  \n",
       "                             mean               mean      mean      mean  \n",
       "date                                                                      \n",
       "2020-02-13             276.080346       5.424938e-03  3.045868  4.677214  \n",
       "2020-02-14             277.740734       1.314438e-03  1.875386  3.260335  \n",
       "2020-02-15             279.481576       1.507500e-04  3.958054  4.619485  \n",
       "2020-02-16             284.575068       4.384375e-03  3.224329  7.988258  \n",
       "2020-02-17             280.940914       3.835562e-03  3.951442  6.621854  \n",
       "...                           ...                ...       ...       ...  \n",
       "2021-02-17             278.646276       1.361375e-03  2.553174  4.053323  \n",
       "2021-02-18             279.161078       2.961500e-03  4.127690  3.631289  \n",
       "2021-02-19             278.902828       9.605000e-04  4.426027  3.576306  \n",
       "2021-02-20             280.868363       2.562500e-06  5.425528  3.224941  \n",
       "2021-02-21             281.739434       5.625000e-07  6.094113  2.966055  \n",
       "\n",
       "[375 rows x 7 columns]"
      ]
     },
     "execution_count": 18,
     "metadata": {},
     "output_type": "execute_result"
    }
   ],
   "source": [
    "date_agg = is_DE.groupby(by=\"date\").agg([\"mean\"])\n",
    "date_agg"
   ]
  },
  {
   "cell_type": "code",
   "execution_count": 22,
   "metadata": {},
   "outputs": [
    {
     "data": {
      "image/png": "[encoded data removed]",
      "text/plain": [
       "<Figure size 1080x864 with 1 Axes>"
      ]
     },
     "metadata": {
      "needs_background": "light"
     },
     "output_type": "display_data"
    }
   ],
   "source": [
    "date_agg[\"SolarRadiation\"][\"mean\"][:10].plot.barh(figsize=(15,12));"
   ]
  },
  {
   "cell_type": "code",
   "execution_count": null,
   "metadata": {},
   "outputs": [],
   "source": []
  }
 ],
 "metadata": {
  "interpreter": {
   "hash": "b989256eb56f7c452f8df4a64159a114113bfaae6a03bedf3a667d033260f0d6"
  },
  "kernelspec": {
   "display_name": "Python 3",
   "language": "python",
   "name": "python3"
  },
  "language_info": {
   "codemirror_mode": {
    "name": "ipython",
    "version": 3
   },
   "file_extension": ".py",
   "mimetype": "text/x-python",
   "name": "python",
   "nbconvert_exporter": "python",
   "pygments_lexer": "ipython3",
   "version": "3.9.7"
  }
 },
 "nbformat": 4,
 "nbformat_minor": 4
}
