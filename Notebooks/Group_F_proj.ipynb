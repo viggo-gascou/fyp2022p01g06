{
 "cells": [
  {
   "cell_type": "code",
   "execution_count": null,
   "metadata": {},
   "outputs": [],
   "source": [
    "import pandas as pd\n",
    "import numpy as np\n",
    "import matplotlib.pyplot as plt\n",
    "import folium, json"
   ]
  },
  {
   "cell_type": "markdown",
   "metadata": {},
   "source": [
    "# **Initial data loading and analysis**"
   ]
  },
  {
   "cell_type": "code",
   "execution_count": null,
   "metadata": {},
   "outputs": [],
   "source": [
    "data = pd.read_csv(\"../Data/raw/weather/weather.csv\")\n",
    "#loads the data"
   ]
  },
  {
   "cell_type": "code",
   "execution_count": null,
   "metadata": {},
   "outputs": [],
   "source": [
    "rows = len(data.axes[0])\n",
    "cols = len(data.axes[1])\n",
    "  \n",
    "# Print the number of rows and columns\n",
    "print(\"Number of Rows: \" + str(rows))\n",
    "print(\"Number of Columns: \" + str(cols))"
   ]
  },
  {
   "cell_type": "code",
   "execution_count": null,
   "metadata": {},
   "outputs": [],
   "source": [
    "# make a sanity check: are there missing values anywhere in the weather data?\n",
    "data.isnull().any()"
   ]
  },
  {
   "cell_type": "code",
   "execution_count": null,
   "metadata": {},
   "outputs": [],
   "source": [
    "is_DE = data[data['iso3166-2'].str.startswith('DE')]\n",
    "is_DE\n",
    "#takes only Germany"
   ]
  },
  {
   "cell_type": "code",
   "execution_count": null,
   "metadata": {},
   "outputs": [],
   "source": [
    "weather_by_region = is_DE.groupby(by=\"iso3166-2\").agg([\"min\",\"mean\",\"median\",\"max\"])\n",
    "weather_by_region"
   ]
  },
  {
   "cell_type": "code",
   "execution_count": null,
   "metadata": {},
   "outputs": [],
   "source": [
    "weather_by_region[\"SolarRadiation\"][\"mean\"].plot.barh(figsize=(15,12));"
   ]
  },
  {
   "cell_type": "code",
   "execution_count": null,
   "metadata": {},
   "outputs": [],
   "source": [
    "date_agg = is_DE.groupby(by=\"date\").agg([\"mean\"])\n",
    "date_agg"
   ]
  },
  {
   "cell_type": "code",
   "execution_count": null,
   "metadata": {},
   "outputs": [],
   "source": [
    "date_agg[\"SolarRadiation\"][\"mean\"][:10].plot.barh(figsize=(15,12));"
   ]
  },
  {
   "cell_type": "markdown",
   "metadata": {},
   "source": [
    "# **Folium data analysis**"
   ]
  },
  {
   "cell_type": "code",
   "execution_count": null,
   "metadata": {},
   "outputs": [],
   "source": [
    "#Initialize a folium map centered on your country of study\n",
    "geo_json_path='../data/raw/shapefiles/de.geojson'\n",
    "corona_df=pd.read_csv('../data/raw/corona/de_corona.csv',sep='\\t')\n",
    "with open('../data/raw/metadata/de_metadata.json','r', encoding=\"utf8\") as f:\n",
    "    country_metadata=json.load(f)\n",
    "a=folium.Map(location=[51.1657,10.4515],zoom_start=6,crs='EPSG3857', \n",
    "    zoom_control=False, scrollWheelZoom=False,dragging=False)\n",
    "\n",
    "#Adding the geodata and a layercontrol to the map\n",
    "folium.GeoJson(geo_json_path, name = \"geojson\").add_to(a)\n",
    "folium.LayerControl().add_to(a)\n",
    "a"
   ]
  },
  {
   "cell_type": "code",
   "execution_count": null,
   "metadata": {},
   "outputs": [],
   "source": [
    "#Defining the region map as dictionary that converts the \"full name\" of the regions to their respective iso code\n",
    "region_map = {country_metadata[\"country_metadata\"][i][\"covid_region_code\"]: \n",
    "    country_metadata[\"country_metadata\"][i][\"iso3166-2_code\"] for i in range(len(country_metadata[\"country_metadata\"]))}\n",
    "\n",
    "#Creating a corona dataframe\n",
    "corona_df[\"region\"] = corona_df[\"region_code\"].map(region_map)\n",
    "corona_df\n",
    "\n",
    "#Creating a corona dataframe and grouping by region\n",
    "corona_df_by_region = corona_df.groupby(by = \"region\" ) [\"confirmed_addition\"].sum().reset_index()\n",
    "\n",
    "#Defining a population map as a dictionary to convert the \"full name\" of the region to their iso code\n",
    "population_map = {country_metadata[\"country_metadata\"][i][\"iso3166-2_code\"]: \n",
    "    country_metadata[\"country_metadata\"][i][\"population\"] for i in range(len(country_metadata[\"country_metadata\"]))}\n",
    "\n",
    "#Adding the population to the corona by region dataframe\n",
    "corona_df_by_region[\"population\"] = corona_df_by_region[\"region\"].map(population_map)\n",
    "\n",
    "corona_df_by_region"
   ]
  },
  {
   "cell_type": "code",
   "execution_count": null,
   "metadata": {},
   "outputs": [],
   "source": [
    "a_cases = folium.Map(location=[51.1657, 10.4515],zoom_start=6,crs='EPSG3857',\n",
    "    zoom_control=False, scrollWheelZoom=False,dragging=False)\n",
    "\n",
    "folium.Choropleth(\n",
    "    geo_data = geo_json_path,\n",
    "    name = \"cases\",\n",
    "    data = corona_df_by_region,\n",
    "    columns = [\"region\", \"confirmed_addition\"],\n",
    "    key_on = \"properties.iso_3166_2\",\n",
    "    fill_color =\"OrRd\",\n",
    "    fill_opacity = 0.7,\n",
    "    line_opacity = 0.2,\n",
    "    legend_name = \"Confirmed cases\"\n",
    ").add_to(a_cases)\n",
    "\n",
    "a_cases"
   ]
  },
  {
   "cell_type": "code",
   "execution_count": null,
   "metadata": {},
   "outputs": [],
   "source": [
    "a_pop = folium.Map(location=[51.1657, 10.4515],zoom_start=6,crs='EPSG3857', \n",
    "    zoom_control=False, scrollWheelZoom=False,dragging=False)\n",
    "\n",
    "folium.Choropleth(\n",
    "    geo_data = geo_json_path,\n",
    "    name = \"population\",\n",
    "    data = corona_df_by_region,\n",
    "    columns = [\"region\", \"population\"],\n",
    "    key_on = \"properties.iso_3166_2\",\n",
    "    fill_color =\"YlGn\",\n",
    "    fill_opacity = 0.7,\n",
    "    line_opacity = 0.2,\n",
    "    legend_name = \"Population\"\n",
    ").add_to(a_pop)\n",
    "\n",
    "a_pop\n"
   ]
  },
  {
   "cell_type": "code",
   "execution_count": null,
   "metadata": {},
   "outputs": [],
   "source": [
    "corona_df_by_region[\"confirmed_pc\"] = corona_df_by_region[\"confirmed_addition\"] / corona_df_by_region[\"population\"]\n",
    "\n",
    "\n",
    "a_cases_pc = folium.Map(location = [51.1657,10.4515], zoom_start = 6, crs = 'EPSG3857',\n",
    "    zoom_control = False, scrollWheelZoom = False , dragging = False)\n",
    "\n",
    "\n",
    "folium.Choropleth(\n",
    "    geo_data = geo_json_path,\n",
    "    name = \"population\",\n",
    "    data = corona_df_by_region,\n",
    "    columns = [\"region\", \"confirmed_pc\"],\n",
    "    key_on = \"properties.iso_3166_2\",\n",
    "    fill_color =\"OrRd\",\n",
    "    fill_opacity = 0.7,\n",
    "    line_opacity = 0.2,\n",
    "    legend_name = \"Confirmed cases per capita\"\n",
    ").add_to(a_cases_pc)\n",
    "\n",
    "a_cases_pc"
   ]
  }
 ],
 "metadata": {
  "interpreter": {
   "hash": "b989256eb56f7c452f8df4a64159a114113bfaae6a03bedf3a667d033260f0d6"
  },
  "kernelspec": {
   "display_name": "Python 3 (ipykernel)",
   "language": "python",
   "name": "python3"
  },
  "language_info": {
   "codemirror_mode": {
    "name": "ipython",
    "version": 3
   },
   "file_extension": ".py",
   "mimetype": "text/x-python",
   "name": "python",
   "nbconvert_exporter": "python",
   "pygments_lexer": "ipython3",
   "version": "3.9.7"
  }
 },
 "nbformat": 4,
 "nbformat_minor": 4
}
